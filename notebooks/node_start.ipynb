{
 "cells": [
  {
   "cell_type": "markdown",
   "id": "539cc037",
   "metadata": {},
   "source": [
    "# Quick example of implementing a simple payments network\n",
    "\n",
    "There are 4 steps to running Veriphi guardrails on a tool given to an autonomous Agent.\n",
    " - Define network classes\n",
    " - Prepare data\n",
    " - Distribute and encrypt\n",
    " - Reconstruct and recover \n"
   ]
  },
  {
   "cell_type": "code",
   "execution_count": null,
   "id": "f93bd710",
   "metadata": {},
   "outputs": [],
   "source": [
    "import { randomBytes } from 'crypto'\n",
    "import * as ic from './index'\n",
    "import { decryptAESCTR, encryptAESCTR } from './utils'"
   ]
  },
  {
   "cell_type": "markdown",
   "id": "a7b38a3c",
   "metadata": {},
   "source": [
    "## Define network classes"
   ]
  },
  {
   "cell_type": "code",
   "execution_count": null,
   "id": "c99f4875",
   "metadata": {},
   "outputs": [],
   "source": [
    "// Run a network with 4 classes\n",
    "const networkClasses: Record<string,number> = {\n",
    "    'Agent': 0,\n",
    "    'Authoriser': 1,\n",
    "    'Endpoint': 2,\n",
    "}\n",
    "\n"
   ]
  },
  {
   "cell_type": "markdown",
   "id": "09504897",
   "metadata": {},
   "source": [
    "## Prepare data"
   ]
  },
  {
   "cell_type": "code",
   "execution_count": null,
   "id": "6ecdcc88",
   "metadata": {},
   "outputs": [],
   "source": [
    "type Wallet = {\n",
    "  walletId: string;\n",
    "  owner: {\n",
    "    name: string;\n",
    "    id: string;\n",
    "  };\n",
    "  defaultCurrency: string;\n",
    "  addresses: Record<string, string>; // currency symbol -> address\n",
    "};\n",
    "\n",
    "// Assign to a variable\n",
    "const wallet: Wallet = {\n",
    "  walletId: \"abc123\",\n",
    "  owner: {\n",
    "    name: \"Jane Doe\",\n",
    "    id: \"user-6789\"\n",
    "  },\n",
    "  defaultCurrency: \"USD\",\n",
    "  addresses: {\n",
    "    BTC: \"1A1zP1eP5QGefi2DMPTfTL5SLmv7DivfNa\",\n",
    "    ETH: \"0x89205A3A3b2A69De6Dbf7f01ED13B2108B2c43e7\"\n",
    "  }\n",
    "};\n",
    "\n",
    "// Serialize to JSON string\n",
    "const walletJson: string = JSON.stringify(wallet);\n",
    "const encoder = new TextEncoder();\n",
    "const walletBytes = encoder.encode(walletJson);"
   ]
  },
  {
   "cell_type": "code",
   "execution_count": null,
   "id": "87fb60a0",
   "metadata": {},
   "outputs": [
    {
     "name": "stdout",
     "output_type": "stream",
     "text": [
      "Uint8Array(198) [\n",
      "  123,  34, 119,  97, 108, 108, 101, 116,  73, 100,  34,  58,\n",
      "   34,  97,  98,  99,  49,  50,  51,  34,  44,  34, 111, 119,\n",
      "  110, 101, 114,  34,  58, 123,  34, 110,  97, 109, 101,  34,\n",
      "   58,  34,  74,  97, 110, 101,  32,  68, 111, 101,  34,  44,\n",
      "   34, 105, 100,  34,  58,  34, 117, 115, 101, 114,  45,  54,\n",
      "   55,  56,  57,  34, 125,  44,  34, 100, 101, 102,  97, 117,\n",
      "  108, 116,  67, 117, 114, 114, 101, 110,  99, 121,  34,  58,\n",
      "   34,  85,  83,  68,  34,  44,  34,  97, 100, 100, 114, 101,\n",
      "  115, 115, 101, 115,\n",
      "  ... 98 more items\n",
      "]\n"
     ]
    }
   ],
   "source": [
    "walletBytes"
   ]
  },
  {
   "cell_type": "code",
   "execution_count": null,
   "id": "753359e6",
   "metadata": {},
   "outputs": [
    {
     "name": "stdout",
     "output_type": "stream",
     "text": [
      "[\n",
      "  <Buffer dc a8 c1 9c e0 9b ad 98 86 f6 e3 f8 61 d7 9a 92 21 45 ae b0 70 59 bf 0b 34 cd 1f 91 7c 14 4d 64 2d e8 26 a2 aa ed 1e ac 9f 87 60 c2 6d 79 93 a3 67 fc ... 148 more bytes>,\n",
      "  6\n",
      "]\n"
     ]
    }
   ],
   "source": [
    "// Generate a public key afor distribution and a private key for obfuscation\n",
    "const setupNode = new ic.SetupNode('node_setup') \n",
    "const seed = Buffer.from(randomBytes(32))\n",
    "const publicKey = setupNode.genPublicKey(seed)\n",
    "const privateKey = setupNode.genPrivateKey('obfPrivateKey', seed)\n",
    "let [encrypted,nonce] = setupNode.encryptData(Buffer.from(walletBytes), privateKey);\n",
    "// optionally set conditions with a minimum spend of 0 and a maximum spend of 1000\n",
    "const [lowVal, highVal] = setupNode.implementConditions(0, 1000, privateKey);\n",
    "let chunkSize;\n",
    "[encrypted,chunkSize] = setupNode.obfuscateData(encrypted, privateKey, lowVal,highVal,50); // Dummy test value of 50 that should pass"
   ]
  },
  {
   "cell_type": "code",
   "execution_count": null,
   "id": "3ae7d705",
   "metadata": {},
   "outputs": [
    {
     "name": "stdout",
     "output_type": "stream",
     "text": [
      "<Buffer 94 33 6a ce 58 3f 1e 4c 2e be eb 86 60 d0 01 b3>\n"
     ]
    }
   ],
   "source": [
    "nonce"
   ]
  },
  {
   "cell_type": "code",
   "execution_count": null,
   "id": "4df73b43",
   "metadata": {},
   "outputs": [
    {
     "name": "stdout",
     "output_type": "stream",
     "text": [
      "Chunk size is  6\n"
     ]
    }
   ],
   "source": [
    "console.log(\"Chunk size is \", chunkSize)"
   ]
  },
  {
   "cell_type": "markdown",
   "id": "d64b64ab",
   "metadata": {},
   "source": [
    "### The cell above can be wrapped up in 1 function call"
   ]
  },
  {
   "cell_type": "code",
   "execution_count": null,
   "id": "7a081d36",
   "metadata": {},
   "outputs": [],
   "source": [
    "const [publicData, privateData] = ic.setupNode(walletBytes, 0, 1000, true);"
   ]
  },
  {
   "cell_type": "code",
   "execution_count": null,
   "id": "2bd2cf0a",
   "metadata": {},
   "outputs": [],
   "source": [
    "// Pack the data for distribution, with a specified identity for each class\n",
    "let agentPacket = setupNode.packageData(encrypted, publicKey, 'E', networkClasses[\"Agent\"])\n",
    "let authPacket  = setupNode.packageData(encrypted, publicKey, 'E', networkClasses[\"Authoriser\"])\n",
    "let endpointPacket = setupNode.packageData(encrypted, publicKey, 'E', networkClasses[\"Endpoint\"])"
   ]
  },
  {
   "cell_type": "markdown",
   "id": "abb3e08b",
   "metadata": {},
   "source": [
    "### Or more generally for many parties"
   ]
  },
  {
   "cell_type": "code",
   "execution_count": null,
   "id": "7bdfbcee",
   "metadata": {},
   "outputs": [],
   "source": [
    "\n",
    "let [agentPacket, authPacket, endpointPacket] = ic.distributeData(publicData, 'E', 3);"
   ]
  },
  {
   "cell_type": "markdown",
   "id": "1a2c3701",
   "metadata": {},
   "source": [
    "## Distribute and encrypt"
   ]
  },
  {
   "cell_type": "markdown",
   "id": "a49b1978",
   "metadata": {},
   "source": [
    "### Example code for the Agent members"
   ]
  },
  {
   "cell_type": "code",
   "execution_count": null,
   "id": "755f452a",
   "metadata": {},
   "outputs": [],
   "source": [
    "const agentNode = new ic.EncryptNode('agent_member')\n",
    "const [publicKey, packetData, mode, identity ] = agentNode.unpackageData(agentPacket);\n",
    "const agentPrivateKey = agentNode.genPrivateKey('privateKey', randomBytes(32));\n",
    "const agentEncrypted = agentNode.encryptData(Buffer.from(packetData), agentPrivateKey, publicKey, mode, identity);\n",
    "const agentEncPacket = agentNode.packageData(agentEncrypted, mode, identity);\n"
   ]
  },
  {
   "cell_type": "markdown",
   "id": "48986dd5",
   "metadata": {},
   "source": [
    "### Or in simple function calls"
   ]
  },
  {
   "cell_type": "code",
   "execution_count": null,
   "id": "d1d463f1",
   "metadata": {},
   "outputs": [],
   "source": [
    "const agentEncPacket    = ic.encryptNode(agentPacket, 'agent_member');\n",
    "const authEncPacket     = ic.encryptNode(authPacket, 'authoriser_member');\n",
    "const endpointEncPacket = ic.encryptNode(endpointPacket, 'endpoint_member');"
   ]
  },
  {
   "cell_type": "markdown",
   "id": "0fe6742c",
   "metadata": {},
   "source": [
    "## Reconstruction and recovery is conditioned on complete visibility and correct conditions"
   ]
  },
  {
   "cell_type": "code",
   "execution_count": null,
   "id": "d87e684d",
   "metadata": {},
   "outputs": [],
   "source": [
    "const veriphier = new ic.DecryptNode('Veriphier');\n",
    "const partyData = veriphier.collectPackets(agentEncPacket, authEncPacket, endpointEncPacket);\n",
    "const partyDataRecov = veriphier.recoverPackets(partyData);\n",
    "const streamList = veriphier.reconstructData(partyDataRecov);\n",
    "const reconstructed = veriphier.reassembleData(streamList, partyData[0].mode);\n",
    "// attempt recovery with a spend of 500, which should pass checks\n",
    "const [recovered,chunkSize] = veriphier.obfuscateData(reconstructed, privateData.key, privateData.low_val, privateData.high_val, 500);\n",
    "const decrypted = veriphier.decryptData(recovered, privateData.nonce, privateData.key);\n"
   ]
  },
  {
   "cell_type": "markdown",
   "id": "1f515e8e",
   "metadata": {},
   "source": [
    "### Again, the above logic is wrapped up in a sigle call"
   ]
  },
  {
   "cell_type": "code",
   "execution_count": null,
   "id": "f185b735",
   "metadata": {},
   "outputs": [],
   "source": [
    "const decrypted = ic.decryptNode(privateData, 500, true, agentEncPacket, authEncPacket, endpointEncPacket);"
   ]
  },
  {
   "cell_type": "markdown",
   "id": "67a5b074",
   "metadata": {},
   "source": [
    "## The original wallet is recovered"
   ]
  },
  {
   "cell_type": "code",
   "execution_count": null,
   "id": "9da3df5a",
   "metadata": {},
   "outputs": [],
   "source": [
    "const decoder = new TextDecoder\n",
    "const recoveredWallet = decoder.decode(decrypted)"
   ]
  },
  {
   "cell_type": "code",
   "execution_count": null,
   "id": "8730a1b5",
   "metadata": {},
   "outputs": [
    {
     "name": "stdout",
     "output_type": "stream",
     "text": [
      "Original wallet is   {\n",
      "  walletId: 'abc123',\n",
      "  owner: { name: 'Jane Doe', id: 'user-6789' },\n",
      "  defaultCurrency: 'USD',\n",
      "  addresses: {\n",
      "    BTC: '1A1zP1eP5QGefi2DMPTfTL5SLmv7DivfNa',\n",
      "    ETH: '0x89205A3A3b2A69De6Dbf7f01ED13B2108B2c43e7'\n",
      "  }\n",
      "}\n"
     ]
    }
   ],
   "source": [
    "// original wallet\n",
    "console.log(\"Original wallet is  \", wallet)"
   ]
  },
  {
   "cell_type": "code",
   "execution_count": null,
   "id": "b7acd923",
   "metadata": {},
   "outputs": [
    {
     "name": "stdout",
     "output_type": "stream",
     "text": [
      "Recovered wallet is  {\n",
      "  walletId: 'abc123',\n",
      "  owner: { name: 'Jane Doe', id: 'user-6789' },\n",
      "  defaultCurrency: 'USD',\n",
      "  addresses: {\n",
      "    BTC: '1A1zP1eP5QGefi2DMPTfTL5SLmv7DivfNa',\n",
      "    ETH: '0x89205A3A3b2A69De6Dbf7f01ED13B2108B2c43e7'\n",
      "  }\n",
      "}\n"
     ]
    }
   ],
   "source": [
    "// recovered wallet\n",
    "console.log(\"Recovered wallet is \", JSON.parse(recoveredWallet))\n"
   ]
  },
  {
   "cell_type": "markdown",
   "id": "8a972d36",
   "metadata": {},
   "source": [
    "# Interfere with the scheme (change private keys, arguments, public key between parties) to break the decryption"
   ]
  },
  {
   "cell_type": "markdown",
   "id": "acc823cd",
   "metadata": {},
   "source": [
    "### For example, decrypting with a spend larger then 1000 (the minimum spend)"
   ]
  },
  {
   "cell_type": "code",
   "execution_count": null,
   "id": "aa8d400b",
   "metadata": {},
   "outputs": [
    {
     "name": "stderr",
     "output_type": "stream",
     "text": [
      "<anonymous_script>:1\n",
      "�Ij\u0013�\u001e<\t6&�����Bd���Wo�H�e\u0004�\n",
      "^\n",
      "\n",
      "SyntaxError: Unexpected token '�', \"�Ij\u0013�\u001e<\t6&\"... is not valid JSON\n",
      "    at JSON.parse (<anonymous>)\n",
      "    at evalmachine.<anonymous>:9:63\n",
      "    at evalmachine.<anonymous>:11:3\n",
      "    at sigintHandlersWrap (node:vm:280:12)\n",
      "    at Script.runInThisContext (node:vm:135:14)\n",
      "    at Object.runInThisContext (node:vm:317:38)\n",
      "    at Object.execute (/Users/petervincent/Documents/veriphi-node/node_modules/tslab/dist/executor.js:160:38)\n",
      "    at JupyterHandlerImpl.handleExecuteImpl (/Users/petervincent/Documents/veriphi-node/node_modules/tslab/dist/jupyter.js:250:38)\n",
      "    at /Users/petervincent/Documents/veriphi-node/node_modules/tslab/dist/jupyter.js:208:57\n",
      "    at async JupyterHandlerImpl.handleExecute (/Users/petervincent/Documents/veriphi-node/node_modules/tslab/dist/jupyter.js:208:21)\n"
     ]
    }
   ],
   "source": [
    "const decrypted = ic.decryptNode(privateData, 1500, true, agentEncPacket, authEncPacket, endpointEncPacket);\n",
    "const decoder = new TextDecoder\n",
    "const recoveredWallet = decoder.decode(decrypted)\n",
    "console.log(\"Recovered wallet is \", JSON.parse(recoveredWallet))\n"
   ]
  }
 ],
 "metadata": {
  "kernelspec": {
   "display_name": ".venv (3.13.7)",
   "language": "python",
   "name": "python3"
  },
  "language_info": {
   "codemirror_mode": {
    "mode": "typescript",
    "name": "javascript",
    "typescript": true
   },
   "file_extension": ".ts",
   "mimetype": "text/typescript",
   "name": "python",
   "version": "3.13.7"
  }
 },
 "nbformat": 4,
 "nbformat_minor": 5
}
