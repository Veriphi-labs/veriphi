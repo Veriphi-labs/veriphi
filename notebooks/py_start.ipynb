{
 "cells": [
  {
   "cell_type": "markdown",
   "id": "f4992703",
   "metadata": {},
   "source": [
    "# Quick example of implementing a simple payments network\n",
    "\n",
    "There are 4 steps to running Veriphi guardrails on a tool given to an autonomous Agent.\n",
    " - Define network classes\n",
    " - Prepare data\n",
    " - Distribute and encrypt\n",
    " - Reconstruct and recover "
   ]
  },
  {
   "cell_type": "code",
   "execution_count": 1,
   "id": "a6850c8a",
   "metadata": {},
   "outputs": [],
   "source": [
    "import os\n",
    "import json\n",
    "import numpy as np\n",
    "\n",
    "from veriphi_core import utils as utils\n",
    "from veriphi_core import interface as ic"
   ]
  },
  {
   "cell_type": "code",
   "execution_count": 2,
   "id": "3470a7ac",
   "metadata": {},
   "outputs": [],
   "source": [
    "net_dict = {\"Agent\": 0, \n",
    "            \"Authoriser\": 1, \n",
    "            \"Endpoint\": 2}"
   ]
  },
  {
   "cell_type": "markdown",
   "id": "fd8e688e",
   "metadata": {},
   "source": [
    "## Prepare data"
   ]
  },
  {
   "cell_type": "code",
   "execution_count": 3,
   "id": "42245efa",
   "metadata": {},
   "outputs": [],
   "source": [
    "wallet = {\n",
    "    \"walletId\": \"abc123\",\n",
    "    \"owner\": {\n",
    "        \"name\": \"Jane Doe\",\n",
    "        \"id\": \"user-678\",\n",
    "    },\n",
    "    \"defaultCurrency\": \"USD\",\n",
    "    \"addresses\": {\n",
    "        \"BTC\": \"1A1zP1eP5QGefi2DMPTfTL5SLmv7DivfNa\",\n",
    "        \"ETH\": \"0x89205A3A3b2A69De6Dbf7f01ED13B2108B2c43e7\",\n",
    "    },\n",
    "}\n",
    "\n",
    "# Serialize to JSON string\n",
    "wallet_json = json.dumps(wallet)\n",
    "\n",
    "# Convert to UTF-8 bytes (like TextEncoder in TS)\n",
    "wallet_bytes = wallet_json.encode(\"utf-8\")"
   ]
  },
  {
   "cell_type": "code",
   "execution_count": 4,
   "id": "65dcdc3b",
   "metadata": {},
   "outputs": [
    {
     "data": {
      "text/plain": [
       "b'{\"walletId\": \"abc123\", \"owner\": {\"name\": \"Jane Doe\", \"id\": \"user-678\"}, \"defaultCurrency\": \"USD\", \"addresses\": {\"BTC\": \"1A1zP1eP5QGefi2DMPTfTL5SLmv7DivfNa\", \"ETH\": \"0x89205A3A3b2A69De6Dbf7f01ED13B2108B2c43e7\"}}'"
      ]
     },
     "execution_count": 4,
     "metadata": {},
     "output_type": "execute_result"
    }
   ],
   "source": [
    "wallet_bytes"
   ]
  },
  {
   "cell_type": "code",
   "execution_count": 5,
   "id": "19e0f7cb",
   "metadata": {},
   "outputs": [
    {
     "data": {
      "text/plain": [
       "210"
      ]
     },
     "execution_count": 5,
     "metadata": {},
     "output_type": "execute_result"
    }
   ],
   "source": [
    "len(wallet_bytes)"
   ]
  },
  {
   "cell_type": "code",
   "execution_count": 6,
   "id": "af289a51",
   "metadata": {},
   "outputs": [],
   "source": [
    "# Generate a public key for distribution and a private key for obfuscation\n",
    "setupNode = ic.SetupNode('node_setup')\n",
    "seed = np.frombuffer(os.urandom(32),dtype=np.uint8)\n",
    "pub_key = setupNode.gen_public_key(seed)\n",
    "priv_key = setupNode.gen_private_key('obf_private_key',seed)\n",
    "encrypted, nonce = setupNode.encrypt_data(wallet_bytes, priv_key)\n",
    "low_val, high_val = setupNode.implement_conditions(0.0,1000.0,priv_key)\n",
    "encrypted, chunk_size, padding = setupNode.obfuscate_data(np.frombuffer(encrypted,dtype=np.uint8), priv_key, low_val, high_val, 50.0)"
   ]
  },
  {
   "cell_type": "markdown",
   "id": "e165ceb3",
   "metadata": {},
   "source": [
    "### The above cell can be wrapped up in a single function call"
   ]
  },
  {
   "cell_type": "code",
   "execution_count": 7,
   "id": "10913a04",
   "metadata": {},
   "outputs": [],
   "source": [
    "public_data, private_data = ic.setup_node(wallet_bytes,0,1000,True)"
   ]
  },
  {
   "cell_type": "code",
   "execution_count": 8,
   "id": "21960faf",
   "metadata": {},
   "outputs": [],
   "source": [
    "# pack the data for transmission\n",
    "agent_packet    = setupNode.package_data(encrypted, pub_key,'E',net_dict[\"Agent\"])\n",
    "auth_packet     = setupNode.package_data(encrypted, pub_key,'E',net_dict[\"Authoriser\"])\n",
    "endpoint_packet = setupNode.package_data(encrypted, pub_key,'E',net_dict[\"Endpoint\"])"
   ]
  },
  {
   "cell_type": "markdown",
   "id": "d2131faf",
   "metadata": {},
   "source": [
    "### More generally for many parties"
   ]
  },
  {
   "cell_type": "code",
   "execution_count": 9,
   "id": "8fd4f3e4",
   "metadata": {},
   "outputs": [],
   "source": [
    "agent_packet, auth_packet, endpoint_packet = ic.distribute_data(public_data,'E',3)"
   ]
  },
  {
   "cell_type": "markdown",
   "id": "58e2e3b4",
   "metadata": {},
   "source": [
    "## Distribute and encrypt"
   ]
  },
  {
   "cell_type": "markdown",
   "id": "9d877f02",
   "metadata": {},
   "source": [
    "### Example code for Agent members"
   ]
  },
  {
   "cell_type": "code",
   "execution_count": 10,
   "id": "31583f96",
   "metadata": {},
   "outputs": [],
   "source": [
    "agent_node = ic.EncryptNode('agent_member')\n",
    "public_key, packet_data, mode, identity = agent_node.unpackage_data(agent_packet)\n",
    "agent_priv_key = agent_node.gen_private_key('private_key', np.frombuffer(os.urandom(32),dtype=np.uint8))\n",
    "agent_encrypted = agent_node.encrypt_data(packet_data, agent_priv_key, public_key, mode, identity)\n",
    "agent_enc_packet = agent_node.package_data(agent_encrypted, mode, identity)"
   ]
  },
  {
   "cell_type": "markdown",
   "id": "5aed9b45",
   "metadata": {},
   "source": [
    "# Or with simple function calls"
   ]
  },
  {
   "cell_type": "code",
   "execution_count": 11,
   "id": "3f459c4d",
   "metadata": {},
   "outputs": [],
   "source": [
    "agent_enc_packet = ic.encrypt_node(agent_packet,\"agent_member\")\n",
    "auth_enc_packet  = ic.encrypt_node(auth_packet,\"authoriser_member\")\n",
    "endp_enc_packet  = ic.encrypt_node(endpoint_packet,\"endpoint_member\")"
   ]
  },
  {
   "cell_type": "markdown",
   "id": "789f816b",
   "metadata": {},
   "source": [
    "## Reconstruction and recovery is conditioned on complete visibility and correct conditions"
   ]
  },
  {
   "cell_type": "code",
   "execution_count": 12,
   "id": "3a07023f",
   "metadata": {},
   "outputs": [],
   "source": [
    "veriphier = ic.DecryptNode('Veriphier')\n",
    "party_data = veriphier.collect_packets(agent_enc_packet, auth_enc_packet, endp_enc_packet)\n",
    "party_data_recov = veriphier.recover_packets(party_data)\n",
    "stream_list = veriphier.reconstruct_data(party_data_recov)\n",
    "reconstructed = veriphier.reassemble_data(stream_list, party_data[0]['mode'])\n",
    "recovered, chunk_size = veriphier.obfuscate_data(reconstructed, private_data[\"key\"], private_data[\"low_val\"], private_data[\"high_val\"], 500)\n",
    "recovered = recovered[:-private_data[\"padding\"]]\n",
    "decrypted = veriphier.decrypt_data(recovered.tobytes(), private_data[\"nonce\"], private_data[\"key\"])"
   ]
  },
  {
   "cell_type": "code",
   "execution_count": 13,
   "id": "7822fb3f",
   "metadata": {},
   "outputs": [
    {
     "data": {
      "text/plain": [
       "5"
      ]
     },
     "execution_count": 13,
     "metadata": {},
     "output_type": "execute_result"
    }
   ],
   "source": [
    "chunk_size"
   ]
  },
  {
   "cell_type": "code",
   "execution_count": 14,
   "id": "6131cf86",
   "metadata": {},
   "outputs": [
    {
     "data": {
      "text/plain": [
       "array([], dtype=uint8)"
      ]
     },
     "execution_count": 14,
     "metadata": {},
     "output_type": "execute_result"
    }
   ],
   "source": [
    "recovered"
   ]
  },
  {
   "cell_type": "markdown",
   "id": "ab37a09c",
   "metadata": {},
   "source": [
    "### Or wrapped up in a single call"
   ]
  },
  {
   "cell_type": "code",
   "execution_count": 15,
   "id": "0f574a4e",
   "metadata": {},
   "outputs": [],
   "source": [
    "decrypted = ic.decrypt_node(private_data, 500, True, agent_enc_packet, auth_enc_packet, endp_enc_packet)"
   ]
  },
  {
   "cell_type": "markdown",
   "id": "c60cfb53",
   "metadata": {},
   "source": [
    "### Now we can check the output!"
   ]
  },
  {
   "cell_type": "code",
   "execution_count": 16,
   "id": "bbaebaf5",
   "metadata": {},
   "outputs": [
    {
     "data": {
      "text/plain": [
       "'{\"walletId\": \"abc123\", \"owner\": {\"name\": \"Jane Doe\", \"id\": \"user-678\"}, \"defaultCurrency\": \"USD\", \"addresses\": {\"BTC\": \"1A1zP1eP5QGefi2DMPTfTL5SLmv7DivfNa\", \"ETH\": \"0x89205A3A3b2A69De6Dbf7f01ED13B2108B2c43e7\"}}'"
      ]
     },
     "execution_count": 16,
     "metadata": {},
     "output_type": "execute_result"
    }
   ],
   "source": [
    "decrypted.decode(\"utf-8\")"
   ]
  },
  {
   "cell_type": "code",
   "execution_count": null,
   "id": "16f813d3",
   "metadata": {},
   "outputs": [],
   "source": []
  }
 ],
 "metadata": {
  "kernelspec": {
   "display_name": ".venv (3.13.7)",
   "language": "python",
   "name": "python3"
  },
  "language_info": {
   "codemirror_mode": {
    "name": "ipython",
    "version": 3
   },
   "file_extension": ".py",
   "mimetype": "text/x-python",
   "name": "python",
   "nbconvert_exporter": "python",
   "pygments_lexer": "ipython3",
   "version": "3.13.7"
  }
 },
 "nbformat": 4,
 "nbformat_minor": 5
}
